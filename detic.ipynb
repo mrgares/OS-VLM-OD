{
 "cells": [
  {
   "cell_type": "code",
   "execution_count": 1,
   "metadata": {},
   "outputs": [
    {
     "name": "stderr",
     "output_type": "stream",
     "text": [
      "/usr/local/lib/python3.10/dist-packages/IPython/core/magics/osm.py:417: UserWarning: This is now an optional IPython functionality, setting dhist requires you to install the `pickleshare` library.\n",
      "  self.shell.db['dhist'] = compress_dhist(dhist)[-100:]\n"
     ]
    },
    {
     "name": "stdout",
     "output_type": "stream",
     "text": [
      "/workspace\n",
      "mongodb://172.19.0.2:27017\n"
     ]
    }
   ],
   "source": [
    "%cd workspace/\n",
    "import os\n",
    "# Set the correct MongoDB URI for FiftyOne\n",
    "os.environ[\"FIFTYONE_DATABASE_URI\"] = \"mongodb://172.19.0.2:27017\"\n",
    "# Verify the change\n",
    "print(os.environ[\"FIFTYONE_DATABASE_URI\"])\n",
    "\n",
    "# imports\n",
    "from autodistill_detic import DETIC\n",
    "from autodistill.detection import CaptionOntology\n",
    "import fiftyone as fo\n",
    "\n"
   ]
  },
  {
   "cell_type": "code",
   "execution_count": 2,
   "metadata": {},
   "outputs": [
    {
     "name": "stderr",
     "output_type": "stream",
     "text": [
      "100%|███████████████████████████████████████| 338M/338M [00:31<00:00, 11.2MiB/s]\n"
     ]
    },
    {
     "name": "stdout",
     "output_type": "stream",
     "text": [
      "Loading pretrained CLIP\n"
     ]
    },
    {
     "name": "stderr",
     "output_type": "stream",
     "text": [
      "torch.meshgrid: in an upcoming release, it will be required to pass the indexing argument. (Triggered internally at ../aten/src/ATen/native/TensorShape.cpp:3609.)\n"
     ]
    },
    {
     "name": "stdout",
     "output_type": "stream",
     "text": [
      "\u001b[32m[10/12 22:45:14 fvcore.common.checkpoint]: \u001b[0m[Checkpointer] Loading from models/Detic_LCOCOI21k_CLIP_SwinB_896b32_4x_ft4x_max-size.pth ...\n"
     ]
    },
    {
     "name": "stderr",
     "output_type": "stream",
     "text": [
      "You are using `torch.load` with `weights_only=False` (the current default value), which uses the default pickle module implicitly. It is possible to construct malicious pickle data which will execute arbitrary code during unpickling (See https://github.com/pytorch/pytorch/blob/main/SECURITY.md#untrusted-models for more details). In a future release, the default value for `weights_only` will be flipped to `True`. This limits the functions that could be executed during unpickling. Arbitrary objects will no longer be allowed to be loaded via this mode unless they are explicitly allowlisted by the user via `torch.serialization.add_safe_globals`. We recommend you start setting `weights_only=True` for any use case where you don't have full control of the loaded file. Please open an issue on GitHub for any issues related to this experimental feature.\n",
      "Labeling /home/chelo/datastore/test_images/images.jpg: 100%|██████████| 8/8 [00:05<00:00,  1.47it/s]                                  "
     ]
    },
    {
     "name": "stdout",
     "output_type": "stream",
     "text": [
      "Labeled dataset created - ready for distillation.\n"
     ]
    },
    {
     "name": "stderr",
     "output_type": "stream",
     "text": [
      "\n",
      "Passing a `Dict[str, np.ndarray]` into `DetectionDataset` is deprecated and will be removed in `supervision-0.26.0`. Use a list of paths `List[str]` instead.\n"
     ]
    },
    {
     "data": {
      "text/plain": [
       "<supervision.dataset.core.DetectionDataset at 0x7fe1b09235b0>"
      ]
     },
     "execution_count": 2,
     "metadata": {},
     "output_type": "execute_result"
    }
   ],
   "source": [
    "# define an ontology to map class names to our DETIC prompt\n",
    "# the ontology dictionary has the format {caption: class}\n",
    "# where caption is the prompt sent to the base model, and class is the label that will\n",
    "# be saved for that caption in the generated annotations\n",
    "# then, load the model\n",
    "base_model = DETIC(\n",
    "    ontology=CaptionOntology(\n",
    "        {\n",
    "            \"person\": \"person\",\n",
    "        }\n",
    "    )\n",
    ")\n",
    "base_model.label(\"/home/chelo/datastore/test_images\", extension=\".jpg\")"
   ]
  },
  {
   "cell_type": "code",
   "execution_count": 41,
   "metadata": {},
   "outputs": [
    {
     "name": "stdout",
     "output_type": "stream",
     "text": [
      "Loading dataset\n",
      "Dataset loaded\n",
      "Train samples: 6\n",
      "Validation samples: 2\n"
     ]
    }
   ],
   "source": [
    "# Path to the folder containing images and YOLO annotations\n",
    "dataset_dir = \"/home/chelo/datastore/test_images_labeled/\"\n",
    "yaml_path = dataset_dir + \"data.yaml\"  # Path to dataset.yaml\n",
    "# name of the dataset\n",
    "dataset_name = \"test\"\n",
    "\n",
    "# Define the classes\n",
    "classes = [\"person\"]\n",
    "\n",
    "if dataset_name in fo.list_datasets():\n",
    "    # load the dataset if it already exists\n",
    "    print(\"Loading dataset\")\n",
    "    dataset = fo.load_dataset(\"test\")\n",
    "    print(\"Dataset loaded\")\n",
    "else:\n",
    "    print(\"Creating dataset\")\n",
    "    # Load the dataset into FiftyOne\n",
    "    \n",
    "    \n",
    "\n",
    "    # The splits to load\n",
    "    splits = [\"train\", \"val\"]\n",
    "    \n",
    "    dataset = fo.Dataset(dataset_name)\n",
    "    for split in splits:\n",
    "        dataset.add_dir(\n",
    "            dataset_dir=dataset_dir,\n",
    "            dataset_type=fo.types.YOLOv5Dataset,\n",
    "            yaml_path=yaml_path, \n",
    "            split=split,\n",
    "            tags=split,\n",
    "    )\n",
    "    dataset.persistent = True\n",
    "    print(\"Dataset created\")\n",
    "    \n",
    "# Check how many samples are in the train and val splits\n",
    "train_view = dataset.match_tags(\"train\")\n",
    "val_view = dataset.match_tags(\"val\")\n",
    "print(f\"Train samples: {len(train_view)}\")\n",
    "print(f\"Validation samples: {len(val_view)}\")\n"
   ]
  },
  {
   "cell_type": "code",
   "execution_count": 42,
   "metadata": {},
   "outputs": [
    {
     "name": "stdout",
     "output_type": "stream",
     "text": [
      "Session launched. Run `session.show()` to open the App in a cell output.\n"
     ]
    }
   ],
   "source": [
    "# Launch the FiftyOne App to visualize\n",
    "session = fo.launch_app(dataset, port=5152, auto=False)\n",
    "# curl http://localhost:5152"
   ]
  },
  {
   "cell_type": "code",
   "execution_count": null,
   "metadata": {},
   "outputs": [],
   "source": []
  }
 ],
 "metadata": {
  "kernelspec": {
   "display_name": "Python 3",
   "language": "python",
   "name": "python3"
  },
  "language_info": {
   "codemirror_mode": {
    "name": "ipython",
    "version": 3
   },
   "file_extension": ".py",
   "mimetype": "text/x-python",
   "name": "python",
   "nbconvert_exporter": "python",
   "pygments_lexer": "ipython3",
   "version": "3.10.15"
  }
 },
 "nbformat": 4,
 "nbformat_minor": 2
}
